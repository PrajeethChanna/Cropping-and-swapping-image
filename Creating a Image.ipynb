{
 "cells": [
  {
   "cell_type": "code",
   "execution_count": 3,
   "id": "6f7b36c7",
   "metadata": {},
   "outputs": [],
   "source": [
    "import cv2\n",
    "import numpy"
   ]
  },
  {
   "cell_type": "code",
   "execution_count": 4,
   "id": "c7e4c21c",
   "metadata": {},
   "outputs": [],
   "source": [
    "pic1 = numpy.ndarray((360,360,3))"
   ]
  },
  {
   "cell_type": "code",
   "execution_count": 5,
   "id": "51e9d005",
   "metadata": {},
   "outputs": [],
   "source": [
    "img = cv2.circle(pic1,(180,180), 100, (0,0,255), -1)\n"
   ]
  },
  {
   "cell_type": "code",
   "execution_count": 6,
   "id": "fc388e5b",
   "metadata": {},
   "outputs": [],
   "source": [
    "cv2.imshow('pic', img)\n",
    "cv2.waitKey()\n",
    "cv2.destroyAllWindows()"
   ]
  },
  {
   "cell_type": "code",
   "execution_count": 7,
   "id": "d6d239f7",
   "metadata": {},
   "outputs": [],
   "source": [
    "radius = 100\n",
    "while True:\n",
    "    if radius>=0:\n",
    "        height, width = pic1.shape[0:2]\n",
    "        # Ellipse parameters\n",
    "        center = (180, 180)\n",
    "        axes = (radius, radius)\n",
    "        angle = 0\n",
    "        startAngle = 0\n",
    "        endAngle = 180\n",
    "        thickness = 3\n",
    "        img = cv2.ellipse(img, center, axes, angle, startAngle, endAngle, (255,255,255), thickness)\n",
    "        radius = radius -1\n",
    "    else:\n",
    "        break\n",
    "img = cv2.circle(pic1,(180,180), 20, (0,0,0), -1)\n",
    "img = cv2.line(pic1,(80,180),(280,180),(0,0,0), 5)\n",
    "img = cv2.circle(pic1,(180,180), 10, (255,255,255), -1)\n",
    "    "
   ]
  },
  {
   "cell_type": "code",
   "execution_count": 8,
   "id": "17f7e29c",
   "metadata": {},
   "outputs": [],
   "source": [
    "cv2.imshow('pic', img)\n",
    "cv2.waitKey()\n",
    "cv2.destroyAllWindows()"
   ]
  },
  {
   "cell_type": "code",
   "execution_count": null,
   "id": "a981033c",
   "metadata": {},
   "outputs": [],
   "source": []
  }
 ],
 "metadata": {
  "kernelspec": {
   "display_name": "Python 3",
   "language": "python",
   "name": "python3"
  },
  "language_info": {
   "codemirror_mode": {
    "name": "ipython",
    "version": 3
   },
   "file_extension": ".py",
   "mimetype": "text/x-python",
   "name": "python",
   "nbconvert_exporter": "python",
   "pygments_lexer": "ipython3",
   "version": "3.8.8"
  }
 },
 "nbformat": 4,
 "nbformat_minor": 5
}
