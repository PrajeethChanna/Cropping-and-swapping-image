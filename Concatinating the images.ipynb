{
 "cells": [
  {
   "cell_type": "code",
   "execution_count": 1,
   "id": "4d564b4f",
   "metadata": {},
   "outputs": [],
   "source": [
    "import cv2\n",
    "import numpy"
   ]
  },
  {
   "cell_type": "code",
   "execution_count": 2,
   "id": "f4b1eda9",
   "metadata": {},
   "outputs": [],
   "source": [
    "image1 = cv2.imread('img1.jpg')"
   ]
  },
  {
   "cell_type": "code",
   "execution_count": 3,
   "id": "f812777c",
   "metadata": {},
   "outputs": [],
   "source": [
    "image2 = cv2.imread('img2.jpg')"
   ]
  },
  {
   "cell_type": "code",
   "execution_count": 4,
   "id": "cc250658",
   "metadata": {},
   "outputs": [
    {
     "name": "stdout",
     "output_type": "stream",
     "text": [
      "(900, 600, 3)\n",
      "(900, 600, 3)\n"
     ]
    }
   ],
   "source": [
    "print(image1.shape)\n",
    "print(image2.shape)"
   ]
  },
  {
   "cell_type": "code",
   "execution_count": 5,
   "id": "461975cc",
   "metadata": {},
   "outputs": [],
   "source": [
    "horizontal_concatination = numpy.hstack((image1,image2))"
   ]
  },
  {
   "cell_type": "code",
   "execution_count": 6,
   "id": "cdcf3872",
   "metadata": {},
   "outputs": [],
   "source": [
    "cv2.imshow('horizontal_concatination', horizontal_concatination)\n",
    "cv2.waitKey()\n",
    "cv2.destroyAllWindows()"
   ]
  },
  {
   "cell_type": "code",
   "execution_count": 7,
   "id": "c862a1b9",
   "metadata": {},
   "outputs": [],
   "source": [
    "Vertical_concatination = numpy.vstack((image1,image2))\n"
   ]
  },
  {
   "cell_type": "code",
   "execution_count": 8,
   "id": "35941c60",
   "metadata": {},
   "outputs": [],
   "source": [
    "cv2.imshow('Vertical_concatination', Vertical_concatination)\n",
    "cv2.waitKey()\n",
    "cv2.destroyAllWindows()"
   ]
  },
  {
   "cell_type": "code",
   "execution_count": null,
   "id": "207f8b5c",
   "metadata": {},
   "outputs": [],
   "source": []
  }
 ],
 "metadata": {
  "kernelspec": {
   "display_name": "Python 3",
   "language": "python",
   "name": "python3"
  },
  "language_info": {
   "codemirror_mode": {
    "name": "ipython",
    "version": 3
   },
   "file_extension": ".py",
   "mimetype": "text/x-python",
   "name": "python",
   "nbconvert_exporter": "python",
   "pygments_lexer": "ipython3",
   "version": "3.8.8"
  }
 },
 "nbformat": 4,
 "nbformat_minor": 5
}
