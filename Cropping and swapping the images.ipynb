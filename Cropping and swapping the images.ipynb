{
 "cells": [
  {
   "cell_type": "code",
   "execution_count": 13,
   "id": "e79cb65d",
   "metadata": {},
   "outputs": [],
   "source": [
    "import cv2\n",
    "import numpy as np "
   ]
  },
  {
   "cell_type": "code",
   "execution_count": 14,
   "id": "9197cfd1",
   "metadata": {},
   "outputs": [],
   "source": [
    "a = cv2.imread('1.jpg')"
   ]
  },
  {
   "cell_type": "code",
   "execution_count": 15,
   "id": "76cc50ed",
   "metadata": {},
   "outputs": [],
   "source": [
    "a_crop = a[15:265,335:500]"
   ]
  },
  {
   "cell_type": "code",
   "execution_count": 6,
   "id": "483f4a65",
   "metadata": {},
   "outputs": [],
   "source": [
    "cv2.imshow('image-1', a)\n",
    "cv2.waitKey()\n",
    "cv2.destroyAllWindows()"
   ]
  },
  {
   "cell_type": "code",
   "execution_count": 16,
   "id": "c9716802",
   "metadata": {},
   "outputs": [],
   "source": [
    "b = cv2.imread('21.jpg')"
   ]
  },
  {
   "cell_type": "code",
   "execution_count": 17,
   "id": "c3e909fe",
   "metadata": {},
   "outputs": [],
   "source": [
    "b_crop = b[15:265,335:500]"
   ]
  },
  {
   "cell_type": "code",
   "execution_count": 10,
   "id": "297155fb",
   "metadata": {},
   "outputs": [],
   "source": [
    "cv2.imshow('image-2', b_crop)\n",
    "cv2.waitKey()\n",
    "cv2.destroyAllWindows()"
   ]
  },
  {
   "cell_type": "code",
   "execution_count": 18,
   "id": "256bd3ab",
   "metadata": {},
   "outputs": [
    {
     "name": "stdout",
     "output_type": "stream",
     "text": [
      "(250, 165, 3)\n",
      "(250, 165, 3)\n",
      "(250, 165, 3)\n",
      "(250, 165, 3)\n"
     ]
    }
   ],
   "source": [
    "print(a_crop.shape)\n",
    "print(b_crop.shape)\n",
    "print(a[15:265,335:500].shape)\n",
    "print(b[15:265,335:500].shape)"
   ]
  },
  {
   "cell_type": "code",
   "execution_count": 19,
   "id": "fd11a358",
   "metadata": {},
   "outputs": [],
   "source": [
    "a[15:265,335:500] = b_crop"
   ]
  },
  {
   "cell_type": "code",
   "execution_count": 12,
   "id": "062517af",
   "metadata": {},
   "outputs": [],
   "source": [
    "cv2.imshow('image-2', a)\n",
    "cv2.waitKey()\n",
    "cv2.destroyAllWindows()\n",
    "\n",
    "#After swapping this image, restart the kernel and dont execute the \"a\" cropped image, execute only \"b\" cropped image"
   ]
  },
  {
   "cell_type": "code",
   "execution_count": 6,
   "id": "227c544b",
   "metadata": {},
   "outputs": [],
   "source": [
    " b[15:265,335:500] = a_crop"
   ]
  },
  {
   "cell_type": "code",
   "execution_count": 7,
   "id": "81aa61d1",
   "metadata": {},
   "outputs": [],
   "source": [
    "cv2.imshow('image1', b)\n",
    "cv2.waitKey()\n",
    "cv2.destroyAllWindows()"
   ]
  },
  {
   "cell_type": "code",
   "execution_count": null,
   "id": "0657c65d",
   "metadata": {},
   "outputs": [],
   "source": []
  }
 ],
 "metadata": {
  "kernelspec": {
   "display_name": "Python 3",
   "language": "python",
   "name": "python3"
  },
  "language_info": {
   "codemirror_mode": {
    "name": "ipython",
    "version": 3
   },
   "file_extension": ".py",
   "mimetype": "text/x-python",
   "name": "python",
   "nbconvert_exporter": "python",
   "pygments_lexer": "ipython3",
   "version": "3.8.8"
  }
 },
 "nbformat": 4,
 "nbformat_minor": 5
}
